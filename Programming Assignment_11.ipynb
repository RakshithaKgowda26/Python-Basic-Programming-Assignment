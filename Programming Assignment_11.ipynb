{
 "cells": [
  {
   "cell_type": "code",
   "execution_count": 8,
   "id": "de695e23",
   "metadata": {},
   "outputs": [
    {
     "name": "stdout",
     "output_type": "stream",
     "text": [
      "Enter sentence:I love data science and artificial intelligence\n",
      "Enter the len of a word:4\n",
      "love\n",
      "data\n"
     ]
    }
   ],
   "source": [
    "#1.Write a Python program to find words which are greater than given length k?\n",
    "sen=input(\"Enter sentence:\")\n",
    "word=sen.split()\n",
    "length=int(input(\"Enter the len of a word:\"))\n",
    "for i in word:\n",
    "    if len(i)==length:\n",
    "        print(i)"
   ]
  },
  {
   "cell_type": "code",
   "execution_count": 11,
   "id": "47d9e209",
   "metadata": {},
   "outputs": [
    {
     "name": "stdout",
     "output_type": "stream",
     "text": [
      "Enter word:Sheethal\n",
      "Enter the i-th index to remove:2\n",
      "After removing: Shethal\n"
     ]
    }
   ],
   "source": [
    "#2.Write a Python program for removing i-th character from a string?\n",
    "word=input(\"Enter word:\")\n",
    "index=int(input(\"Enter the i-th index to remove:\"))\n",
    "new_word=\"\"\n",
    "for i in range(len(word)):\n",
    "    if i!=index:\n",
    "        new_word=new_word+word[i]\n",
    "print(\"After removing:\",new_word)"
   ]
  },
  {
   "cell_type": "code",
   "execution_count": 13,
   "id": "fdb99ef9",
   "metadata": {},
   "outputs": [
    {
     "name": "stdout",
     "output_type": "stream",
     "text": [
      "Enter a string:Welcome to coding platform\n",
      "Splitting the string: ['Welcome', 'to', 'coding', 'platform']\n",
      "After joining string: Welcome-to-coding-platform\n"
     ]
    }
   ],
   "source": [
    "#3.Write a Python program to split and join a string?\n",
    "sen=input(\"Enter a string:\")\n",
    "word=sen.split()\n",
    "print(\"Splitting the string:\",word)\n",
    "rejoin=\"-\".join(word)\n",
    "print(\"After joining string:\",rejoin)"
   ]
  },
  {
   "cell_type": "code",
   "execution_count": 18,
   "id": "c36248d0",
   "metadata": {},
   "outputs": [
    {
     "name": "stdout",
     "output_type": "stream",
     "text": [
      "Enter a string:10110101\n",
      "It's a binary string\n"
     ]
    }
   ],
   "source": [
    "#4.Write a Python to check if a given string is binary string or not?\n",
    "stg=input(\"Enter a string:\")\n",
    "a=set(stg)\n",
    "b={'0','1'}\n",
    "if a==b or a=={'0'} or a=={'1'}:\n",
    "    print(\"It's a binary string\")\n",
    "else:\n",
    "    print(\"Not a binary string\")"
   ]
  },
  {
   "cell_type": "code",
   "execution_count": 22,
   "id": "3db6f6a8",
   "metadata": {},
   "outputs": [
    {
     "name": "stdout",
     "output_type": "stream",
     "text": [
      "Enter string1:decimal binary hexadecimal\n",
      "Enter string2:decimal octal hexadecimal\n",
      "Uncommon words are:  binary octal\n"
     ]
    }
   ],
   "source": [
    "#5.Write a Python program to find uncommon words from two Strings?\n",
    "s1=input(\"Enter string1:\")\n",
    "s2=input(\"Enter string2:\")\n",
    "ns1=s1.split()\n",
    "ns2=s2.split()\n",
    "uncommon=\"\"\n",
    "for word in ns1:\n",
    "    if word not in ns2:\n",
    "        uncommon=uncommon+\" \"+word\n",
    "for word in ns2:\n",
    "    if word not in ns1:\n",
    "        uncommon=uncommon+\" \"+word\n",
    "\n",
    "print(\"Uncommon words are:\",uncommon)"
   ]
  },
  {
   "cell_type": "code",
   "execution_count": 26,
   "id": "5ffb250b",
   "metadata": {},
   "outputs": [
    {
     "name": "stdout",
     "output_type": "stream",
     "text": [
      "Enter string:duplicate characters\n",
      "c a t e r "
     ]
    }
   ],
   "source": [
    "#6.Write a Python to find all duplicate characters in string?\n",
    "string = input(\"Enter string:\")\n",
    "duplicates = {}\n",
    "for char in string:\n",
    "    if char in duplicates:\n",
    "        duplicates[char] += 1\n",
    "    else:\n",
    "        duplicates[char] = 1\n",
    "for key, value in duplicates.items():\n",
    "    if value > 1:\n",
    "        print(key, end = \" \")"
   ]
  },
  {
   "cell_type": "code",
   "execution_count": 31,
   "id": "711dd699",
   "metadata": {},
   "outputs": [
    {
     "name": "stdout",
     "output_type": "stream",
     "text": [
      "Enter string:Hello Mysore!\n",
      "Yes,It contains special character\n"
     ]
    }
   ],
   "source": [
    "#7.Write a Python Program to check if a string contains any special character?\n",
    "special_characters = \"!@#$%^&*()-+?_=,<>/\"\n",
    "s=input(\"Enter string:\")\n",
    "if any(c in special_characters for c in s):\n",
    "    print(\"Yes,It contains special character\")\n",
    "else:\n",
    "    print(\"No,It doesn't contain any special character\")"
   ]
  }
 ],
 "metadata": {
  "kernelspec": {
   "display_name": "Python 3 (ipykernel)",
   "language": "python",
   "name": "python3"
  },
  "language_info": {
   "codemirror_mode": {
    "name": "ipython",
    "version": 3
   },
   "file_extension": ".py",
   "mimetype": "text/x-python",
   "name": "python",
   "nbconvert_exporter": "python",
   "pygments_lexer": "ipython3",
   "version": "3.9.7"
  }
 },
 "nbformat": 4,
 "nbformat_minor": 5
}
