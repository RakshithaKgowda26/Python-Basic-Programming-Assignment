{
 "cells": [
  {
   "cell_type": "markdown",
   "id": "4530e837",
   "metadata": {},
   "source": [
    "1.Write a function that stutters a word as if someone is struggling to read it. The\n",
    "first two letters are repeated twice with an ellipsis ... and space after each, and then the\n",
    "word is pronounced with a question mark ?.\n",
    "Examples\n",
    "stutter(\"incredible\") ➞ \"in... in... incredible?\"\n",
    "stutter(\"enthusiastic\") ➞ \"en... en... enthusiastic?\"\n",
    "stutter(\"outstanding\") ➞ \"ou... ou... outstanding?\"\n",
    "\n",
    "Hint :- Assume all input is in lower case and at least two characters long."
   ]
  },
  {
   "cell_type": "code",
   "execution_count": 2,
   "id": "3f4db5a5",
   "metadata": {},
   "outputs": [
    {
     "name": "stdout",
     "output_type": "stream",
     "text": [
      "in... in... incredible?\n",
      "en... en... enthusiastic?\n",
      "ou... ou... outstanding?\n"
     ]
    }
   ],
   "source": [
    "def stutter(word):\n",
    "    s=word[0:2]\n",
    "    return (2*(s+\"... \"))+word+\"?\"\n",
    "\n",
    "print(stutter(\"incredible\"))\n",
    "print(stutter(\"enthusiastic\"))\n",
    "print(stutter(\"outstanding\"))"
   ]
  },
  {
   "cell_type": "markdown",
   "id": "199c505b",
   "metadata": {},
   "source": [
    "2.Create a function that takes an angle in radians and returns the corresponding angle in degrees rounded to one decimal place.\n",
    "\n",
    "Examples\n",
    "radians_to_degrees(1) ➞ 57.3\n",
    "radians_to_degrees(20) ➞ 1145.9\n",
    "radians_to_degrees(50) ➞ 2864.8"
   ]
  },
  {
   "cell_type": "code",
   "execution_count": 6,
   "id": "bc815d58",
   "metadata": {},
   "outputs": [
    {
     "name": "stdout",
     "output_type": "stream",
     "text": [
      "radians_to_degrees(1) ➞  57.3\n",
      "radians_to_degrees(20) ➞  1145.9\n",
      "radians_to_degrees(50) ➞  2864.8\n"
     ]
    }
   ],
   "source": [
    "def angle(radian):\n",
    "    pi=3.14159\n",
    "    degree=round(radian*(180/pi),1)\n",
    "    return degree\n",
    "\n",
    "radian=1\n",
    "print(\"radians_to_degrees(1) ➞ \",angle(radian))\n",
    "radian=20\n",
    "print(\"radians_to_degrees(20) ➞ \",angle(radian))\n",
    "radian=50\n",
    "print(\"radians_to_degrees(50) ➞ \",angle(radian))"
   ]
  },
  {
   "cell_type": "markdown",
   "id": "bd471817",
   "metadata": {},
   "source": [
    "3.In this challenge, establish if a given integer num is a Curzon number. If 1 plus 2 elevated to num is exactly divisible by 1 plus 2 multiplied by num, then num is a Curzon\n",
    "number.\n",
    "Given a non-negative integer num, implement a function that returns True if num is a Curzon number, or False otherwise.\n",
    "\n",
    "Examples\n",
    "is_curzon(5) ➞ True\n",
    "2 ** 5 + 1 = 33\n",
    "2 * 5 + 1 = 11\n",
    "33 is a multiple of 11\n",
    "\n",
    "is_curzon(10) ➞ False\n",
    "2 ** 10 + 1 = 1025\n",
    "2 * 10 + 1 = 21\n",
    "1025 is not a multiple of 21\n",
    "\n",
    "is_curzon(14) ➞ True\n",
    "2 ** 14 + 1 = 16385\n",
    "2 * 14 + 1 = 29\n",
    "16385 is a multiple of 29"
   ]
  },
  {
   "cell_type": "code",
   "execution_count": 10,
   "id": "d1c816dd",
   "metadata": {},
   "outputs": [
    {
     "name": "stdout",
     "output_type": "stream",
     "text": [
      "33 is a multiple of 11\n",
      "1025 is not a multiple of 21\n",
      "16385 is a multiple of 29\n"
     ]
    }
   ],
   "source": [
    "def is_curzon(num):\n",
    " \n",
    "    powerTerm, productTerm = 0, 0\n",
    " \n",
    "    # Find 2^num+1\n",
    "    powerTerm = pow(2, num)+1\n",
    " \n",
    "    # Find 2*num+1\n",
    "    productTerm = 2 * num + 1\n",
    " \n",
    "    # Check for divisibility\n",
    "    if (powerTerm % productTerm == 0):\n",
    "        print(powerTerm,\"is a multiple of\",productTerm)\n",
    "    else:\n",
    "        print(powerTerm,\"is not a multiple of\",productTerm)\n",
    "\n",
    "if __name__ == '__main__':\n",
    "     \n",
    "    is_curzon(5)\n",
    "\n",
    "    is_curzon(10)\n",
    "    \n",
    "    is_curzon(14)"
   ]
  },
  {
   "cell_type": "markdown",
   "id": "c70b9913",
   "metadata": {},
   "source": [
    "4.Given the side length x find the area of a hexagon.\n",
    "Examples\n",
    "area_of_hexagon(1) ➞ 2.6\n",
    "area_of_hexagon(2) ➞ 10.4\n",
    "area_of_hexagon(3) ➞ 23.4"
   ]
  },
  {
   "cell_type": "code",
   "execution_count": 25,
   "id": "b653a47e",
   "metadata": {},
   "outputs": [
    {
     "name": "stdout",
     "output_type": "stream",
     "text": [
      "2.6\n",
      "10.4\n",
      "23.4\n"
     ]
    }
   ],
   "source": [
    "from math import sqrt\n",
    "\n",
    "def area_of_hexagon(x):\n",
    "    area=(3*sqrt(3)/2) * (x**2)\n",
    "    \n",
    "    print(round(area,1))\n",
    "\n",
    "if __name__ == '__main__':\n",
    "    \n",
    "    area_of_hexagon(1)\n",
    "    area_of_hexagon(2)\n",
    "    area_of_hexagon(3)"
   ]
  },
  {
   "cell_type": "markdown",
   "id": "8d0dc266",
   "metadata": {},
   "source": [
    "5. Create a function that returns a base-2 (binary) representation of a base-10\n",
    "(decimal) string number. To convert is simple: ((2) means base-2 and (10) means base-10)\n",
    "010101001(2) = 1 + 8 + 32 + 128.\n",
    "Going from right to left, the value of the most right bit is 1, now from that every bit to the left\n",
    "will be x2 the value, value of an 8 bit binary numbers are (256, 128, 64, 32, 16, 8, 4, 2, 1).\n",
    "Examples\n",
    "binary(1) ➞ \"1\"\n",
    "1*1 = 1\n",
    "binary(5) ➞ \"101\"\n",
    "1*1 + 1*4 = 5\n",
    "binary(10) ➞ \"1010\"\n",
    "1*2 + 1*8 = 10"
   ]
  },
  {
   "cell_type": "code",
   "execution_count": 32,
   "id": "802db339",
   "metadata": {},
   "outputs": [
    {
     "name": "stdout",
     "output_type": "stream",
     "text": [
      "0b1\n",
      "0b101\n",
      "0b1010\n"
     ]
    }
   ],
   "source": [
    "def binary(decimal):\n",
    "    binary=bin(decimal)\n",
    "    print(binary)\n",
    "\n",
    "binary(1)    \n",
    "binary(5)\n",
    "binary(10)"
   ]
  },
  {
   "cell_type": "code",
   "execution_count": null,
   "id": "3681fcf2",
   "metadata": {},
   "outputs": [],
   "source": []
  }
 ],
 "metadata": {
  "kernelspec": {
   "display_name": "Python 3 (ipykernel)",
   "language": "python",
   "name": "python3"
  },
  "language_info": {
   "codemirror_mode": {
    "name": "ipython",
    "version": 3
   },
   "file_extension": ".py",
   "mimetype": "text/x-python",
   "name": "python",
   "nbconvert_exporter": "python",
   "pygments_lexer": "ipython3",
   "version": "3.9.7"
  }
 },
 "nbformat": 4,
 "nbformat_minor": 5
}
