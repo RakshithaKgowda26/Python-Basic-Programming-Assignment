{
 "cells": [
  {
   "cell_type": "code",
   "execution_count": 5,
   "id": "97334587",
   "metadata": {},
   "outputs": [
    {
     "name": "stdout",
     "output_type": "stream",
     "text": [
      "Enter the number:6\n",
      "720\n"
     ]
    }
   ],
   "source": [
    "#1.Write a Python Program to Find the Factorial of a Number?\n",
    "n=int(input(\"Enter the number:\"))\n",
    "fac=1\n",
    "if n<=0:\n",
    "    print(\"Factorial doesn't exist\")\n",
    "else:\n",
    "    for i in range(1,n+1):\n",
    "        fac=fac*i\n",
    "    print(fac)"
   ]
  },
  {
   "cell_type": "code",
   "execution_count": 9,
   "id": "9079602b",
   "metadata": {},
   "outputs": [
    {
     "name": "stdout",
     "output_type": "stream",
     "text": [
      "Enter number:26\n",
      "26 * 1 = 26\n",
      "26 * 2 = 52\n",
      "26 * 3 = 78\n",
      "26 * 4 = 104\n",
      "26 * 5 = 130\n",
      "26 * 6 = 156\n",
      "26 * 7 = 182\n",
      "26 * 8 = 208\n",
      "26 * 9 = 234\n",
      "26 * 10 = 260\n"
     ]
    }
   ],
   "source": [
    "#2.Write a Python Program to Display the multiplication Table?\n",
    "n=int(input(\"Enter number:\"))\n",
    "for i in range(1,11):\n",
    "    print(n,\"*\",i,\"=\",n*i)"
   ]
  },
  {
   "cell_type": "code",
   "execution_count": 16,
   "id": "2b91e507",
   "metadata": {},
   "outputs": [
    {
     "name": "stdout",
     "output_type": "stream",
     "text": [
      "Enter number:10\n",
      "0\n",
      "1\n",
      "1\n",
      "2\n",
      "3\n",
      "5\n",
      "8\n",
      "13\n",
      "21\n",
      "34\n"
     ]
    }
   ],
   "source": [
    "#3.Write a Python Program to Print the Fibonacci sequence?\n",
    "num=int(input(\"Enter number:\"))\n",
    "a=0\n",
    "b=1\n",
    "c=0\n",
    "count=1\n",
    "while(count<=n):\n",
    "    print(c)\n",
    "    count+=1\n",
    "    a=b\n",
    "    b=c\n",
    "    c=a+b"
   ]
  },
  {
   "cell_type": "code",
   "execution_count": 19,
   "id": "836f81ad",
   "metadata": {},
   "outputs": [
    {
     "name": "stdout",
     "output_type": "stream",
     "text": [
      "153\n",
      "Armstrong Number\n"
     ]
    }
   ],
   "source": [
    "#4.Write a Python Program to Check Armstrong Number?\n",
    "n=int(input())\n",
    "temp=n\n",
    "sum=0\n",
    "while temp!=0:\n",
    "    x=temp%10\n",
    "    sum=sum+x*x*x\n",
    "    temp=temp//10\n",
    "if sum==n:\n",
    "    print(\"Armstrong Number\")\n",
    "else:\n",
    "    print(\"Not an Armstrong Number\")"
   ]
  },
  {
   "cell_type": "code",
   "execution_count": 27,
   "id": "980d2e56",
   "metadata": {},
   "outputs": [
    {
     "name": "stdout",
     "output_type": "stream",
     "text": [
      "153\n",
      "370\n",
      "371\n",
      "407\n",
      "1634\n"
     ]
    }
   ],
   "source": [
    "#5.Write a Python Program to Find Armstrong Number in an Interval?\n",
    "low_lim = 100\n",
    "up_lim = 2000\n",
    "for i in range(low_lim,up_lim+1):\n",
    "    order=len(str(i))\n",
    "    temp=i\n",
    "    sum=0\n",
    "    while temp>0:\n",
    "        x=temp%10\n",
    "        sum=sum+x**order\n",
    "        temp=temp//10\n",
    "    if sum==i:\n",
    "        print(i)"
   ]
  },
  {
   "cell_type": "code",
   "execution_count": 33,
   "id": "f8f5e4a4",
   "metadata": {},
   "outputs": [
    {
     "name": "stdout",
     "output_type": "stream",
     "text": [
      "Enter number:100\n",
      "5050\n"
     ]
    }
   ],
   "source": [
    "#6.Write a Python Program to Find the Sum of Natural Numbers?\n",
    "n=int(input(\"Enter number:\"))\n",
    "sum=0\n",
    "for i in range(1,n+1):\n",
    "    sum=sum+i\n",
    "print(sum)"
   ]
  }
 ],
 "metadata": {
  "kernelspec": {
   "display_name": "Python 3 (ipykernel)",
   "language": "python",
   "name": "python3"
  },
  "language_info": {
   "codemirror_mode": {
    "name": "ipython",
    "version": 3
   },
   "file_extension": ".py",
   "mimetype": "text/x-python",
   "name": "python",
   "nbconvert_exporter": "python",
   "pygments_lexer": "ipython3",
   "version": "3.9.7"
  }
 },
 "nbformat": 4,
 "nbformat_minor": 5
}
