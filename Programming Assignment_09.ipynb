{
 "cells": [
  {
   "cell_type": "code",
   "execution_count": 9,
   "id": "8c6bea51",
   "metadata": {},
   "outputs": [
    {
     "name": "stdout",
     "output_type": "stream",
     "text": [
      "175\n",
      "The sum of digits: 175\n",
      "It is a disarium number\n"
     ]
    }
   ],
   "source": [
    "#1.Write a Python program to check if the given number is a Disarium Number?\n",
    "num=int(input())\n",
    "l=len(str(num))\n",
    "temp=num\n",
    "sum=0\n",
    "rem=0\n",
    "while(temp>0):\n",
    "    rem=temp%10\n",
    "    sum=sum+int(rem**l)\n",
    "    temp=temp//10\n",
    "    l=l-1\n",
    "print(\"The sum of digits:\",sum)\n",
    "if sum==num:\n",
    "    print(\"It is a disarium number\")\n",
    "else:\n",
    "    print(\"Not a disarium number\")"
   ]
  },
  {
   "cell_type": "code",
   "execution_count": 31,
   "id": "357141e2",
   "metadata": {},
   "outputs": [
    {
     "name": "stdout",
     "output_type": "stream",
     "text": [
      "1\n",
      "2\n",
      "3\n",
      "4\n",
      "5\n",
      "6\n",
      "7\n",
      "8\n",
      "9\n",
      "89\n"
     ]
    }
   ],
   "source": [
    "#2.Write a Python program to print all disarium numbers between 1 to 100?\n",
    "for num in range(1,101):\n",
    "    l=len(str(num))\n",
    "    temp=num\n",
    "    sum=0\n",
    "    rem=0\n",
    "    while(temp>0):\n",
    "        rem=temp%10\n",
    "        sum=sum+int(rem**l)\n",
    "        temp=temp//10\n",
    "        l=l-1\n",
    "    if sum==num:\n",
    "        print(num)"
   ]
  },
  {
   "cell_type": "code",
   "execution_count": 16,
   "id": "c2fb79fd",
   "metadata": {},
   "outputs": [
    {
     "name": "stdout",
     "output_type": "stream",
     "text": [
      "Enter number:82\n",
      "Happy number\n"
     ]
    }
   ],
   "source": [
    "#3.Write a Python program to check if the given number is Happy Number?\n",
    "num=int(input(\"Enter number:\"))\n",
    "while(num!=1 and num!=4):\n",
    "    sum=0\n",
    "    rem=0\n",
    "    while (num>0):\n",
    "        rem=num%10\n",
    "        sum=sum+(rem*rem)\n",
    "        num=num//10\n",
    "    num=sum\n",
    "if(sum==1):\n",
    "    print(\"Happy number\")\n",
    "else:\n",
    "    print(\"Not an happy number\")"
   ]
  },
  {
   "cell_type": "code",
   "execution_count": 30,
   "id": "42ba5a93",
   "metadata": {},
   "outputs": [
    {
     "name": "stdout",
     "output_type": "stream",
     "text": [
      "List of happy numbers between 1 and 100:\n",
      "1\n",
      "7\n",
      "10\n",
      "13\n",
      "19\n",
      "23\n",
      "28\n",
      "31\n",
      "32\n",
      "44\n",
      "49\n",
      "68\n",
      "70\n",
      "79\n",
      "82\n",
      "86\n",
      "91\n",
      "94\n",
      "97\n",
      "100\n"
     ]
    }
   ],
   "source": [
    "#4.Write a Python program to print all happy numbers between 1 and 100?\n",
    "def isHappyNumber(num):\n",
    "    rem = sum = 0 \n",
    "    while(num > 0):\n",
    "        rem = num%10\n",
    "        sum = sum + (rem*rem)\n",
    "        num = num//10\n",
    "    return sum\n",
    "print(\"List of happy numbers between 1 and 100:\")\n",
    "for i in range(1, 101):\n",
    "    result = i\n",
    "    while(result != 1 and result != 4):\n",
    "        result = isHappyNumber(result)\n",
    "    if(result == 1):\n",
    "        print(i)"
   ]
  },
  {
   "cell_type": "code",
   "execution_count": 23,
   "id": "7d4e7c48",
   "metadata": {},
   "outputs": [
    {
     "name": "stdout",
     "output_type": "stream",
     "text": [
      "Enter number:156\n",
      "It's an harshad number\n"
     ]
    }
   ],
   "source": [
    "#5.Write a Python program to determine whether the given number is a Harshad Number?\n",
    "#If a number is divisible by the sum of its digits, then it will be known as a Harshad Number.\n",
    "num=int(input(\"Enter number:\"))\n",
    "rem=0\n",
    "sum=0\n",
    "n=num\n",
    "while(num>0):\n",
    "    rem=num%10\n",
    "    sum=sum+rem\n",
    "    num=num//10\n",
    "if(n%sum==0):\n",
    "    print(\"It's an harshad number\")\n",
    "else:\n",
    "    print(\"Not an harshad number\")"
   ]
  },
  {
   "cell_type": "code",
   "execution_count": 28,
   "id": "e9a00aba",
   "metadata": {},
   "outputs": [
    {
     "name": "stdout",
     "output_type": "stream",
     "text": [
      "Pronic numbers between 1 and 100: \n",
      "2\n",
      "6\n",
      "12\n",
      "20\n",
      "30\n",
      "42\n",
      "56\n",
      "72\n",
      "90\n"
     ]
    }
   ],
   "source": [
    "#6.Write a Python program to print all pronic numbers between 1 and 100?\n",
    "#The pronic number can be defined as the number which is a product of two consecutive numbers.\n",
    "# n(n + 1)\n",
    "def isPronicNumber(num):\n",
    "        flag = False;    \n",
    "        \n",
    "        for j in range(1, num+1):    \n",
    "            if((j*(j+1)) == num):    \n",
    "                flag = True    \n",
    "                break    \n",
    "        return flag    \n",
    "         \n",
    "print(\"Pronic numbers between 1 and 100: \")    \n",
    "for i in range(1, 101):    \n",
    "    if(isPronicNumber(i)):    \n",
    "        print(i)   "
   ]
  }
 ],
 "metadata": {
  "kernelspec": {
   "display_name": "Python 3 (ipykernel)",
   "language": "python",
   "name": "python3"
  },
  "language_info": {
   "codemirror_mode": {
    "name": "ipython",
    "version": 3
   },
   "file_extension": ".py",
   "mimetype": "text/x-python",
   "name": "python",
   "nbconvert_exporter": "python",
   "pygments_lexer": "ipython3",
   "version": "3.9.7"
  }
 },
 "nbformat": 4,
 "nbformat_minor": 5
}
