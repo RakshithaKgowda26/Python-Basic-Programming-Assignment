{
 "cells": [
  {
   "cell_type": "code",
   "execution_count": 4,
   "id": "df69feff",
   "metadata": {},
   "outputs": [
    {
     "name": "stdout",
     "output_type": "stream",
     "text": [
      "Enter how many elements to be in list:5\n",
      "Enter number:2\n",
      "Enter number:4\n",
      "Enter number:6\n",
      "Enter number:8\n",
      "Enter number:10\n",
      "Sum of all the elements in the list: 30\n"
     ]
    }
   ],
   "source": [
    "#1.Write a Python program to find sum of elements in list?\n",
    "a=int(input(\"Enter how many elements to be in list:\"))\n",
    "sum=0\n",
    "for i in range(0,a):\n",
    "    num=int(input(\"Enter number:\"))\n",
    "    sum=sum+num\n",
    "print(\"Sum of all the elements in the list:\",sum)"
   ]
  },
  {
   "cell_type": "code",
   "execution_count": 5,
   "id": "8894ac4a",
   "metadata": {},
   "outputs": [
    {
     "name": "stdout",
     "output_type": "stream",
     "text": [
      "Enter how many elements to be in list:5\n",
      "Enter number:2\n",
      "Enter number:4\n",
      "Enter number:6\n",
      "Enter number:8\n",
      "Enter number:10\n",
      "Sum of all the elements in the list: 3840\n"
     ]
    }
   ],
   "source": [
    "#2.Write a Python program to Multiply all numbers in the list?\n",
    "a=int(input(\"Enter how many elements to be in list:\"))\n",
    "product=1\n",
    "for i in range(0,a):\n",
    "    num=int(input(\"Enter number:\"))\n",
    "    product=product*num\n",
    "print(\"Sum of all the elements in the list:\",product)"
   ]
  },
  {
   "cell_type": "code",
   "execution_count": 5,
   "id": "7baff410",
   "metadata": {},
   "outputs": [
    {
     "name": "stdout",
     "output_type": "stream",
     "text": [
      "Enter number of elements:5\n",
      "Enter 5 elements one by one:\n",
      "100\n",
      "45\n",
      "56\n",
      "80\n",
      "26\n",
      "[100, 45, 56, 80, 26]\n",
      "26\n"
     ]
    }
   ],
   "source": [
    "#3.Write a Python program to find smallest number in a list?\n",
    "lst=[]\n",
    "n=int(input(\"Enter number of elements:\"))\n",
    "print(\"Enter\",n,\"elements one by one:\")\n",
    "for i in range(0,n):\n",
    "    l=int(input())\n",
    "    lst.append(l)\n",
    "print(lst)\n",
    "\n",
    "#list=[100,45,56,80,26]\n",
    "print(min(lst))"
   ]
  },
  {
   "cell_type": "code",
   "execution_count": 3,
   "id": "89686fb3",
   "metadata": {},
   "outputs": [
    {
     "name": "stdout",
     "output_type": "stream",
     "text": [
      "Enter number of elements:5\n",
      "Enter 5 elements one by one:\n",
      "100\n",
      "54\n",
      "45\n",
      "80\n",
      "26\n",
      "[100, 54, 45, 80, 26]\n",
      "100\n"
     ]
    }
   ],
   "source": [
    "#4.Write a Python program to find largest number in a list?\n",
    "lst=[]\n",
    "n=int(input(\"Enter number of elements:\"))\n",
    "print(\"Enter\",n,\"elements one by one:\")\n",
    "for i in range(0,n):\n",
    "    l=int(input())\n",
    "    lst.append(l)\n",
    "print(lst)\n",
    "\n",
    "print(max(lst))"
   ]
  },
  {
   "cell_type": "code",
   "execution_count": 1,
   "id": "cfb5d358",
   "metadata": {},
   "outputs": [
    {
     "name": "stdout",
     "output_type": "stream",
     "text": [
      "Enter number of elements:6\n",
      "Enter 6 elements one by one:\n",
      "100\n",
      "56\n",
      "23\n",
      "100\n",
      "90\n",
      "26\n",
      "[100, 56, 23, 100, 90, 26]\n",
      "[26, 100, 23, 56, 90]\n",
      "The second maximum number: 90\n"
     ]
    }
   ],
   "source": [
    "#5.Write a Python program to find second largest number in a list?\n",
    "lst=[]\n",
    "n=int(input(\"Enter number of elements:\"))\n",
    "print(\"Enter\",n,\"elements one by one:\")\n",
    "for i in range(0,n):\n",
    "    l=int(input())\n",
    "    lst.append(l)\n",
    "print(lst)\n",
    "\n",
    "new=set(lst)\n",
    "print(list(new))\n",
    "new.remove(max(new))\n",
    "print(\"The second maximum number:\",max(new))"
   ]
  },
  {
   "cell_type": "code",
   "execution_count": 6,
   "id": "cabd6c08",
   "metadata": {},
   "outputs": [
    {
     "name": "stdout",
     "output_type": "stream",
     "text": [
      "Enter number of elements:5\n",
      "Enter 5 elements one by one:\n",
      "100\n",
      "1000\n",
      "500\n",
      "800\n",
      "80\n",
      "[100, 1000, 500, 800, 80]\n",
      "Enter how many largest element to print:3\n",
      "[500, 800, 1000]\n"
     ]
    }
   ],
   "source": [
    "#6.Write a Python program to find N largest elements from a list?\n",
    "lst=[]\n",
    "n=int(input(\"Enter number of elements:\"))\n",
    "print(\"Enter\",n,\"elements one by one:\")\n",
    "for i in range(0,n):\n",
    "    l=int(input())\n",
    "    lst.append(l)\n",
    "print(lst)\n",
    "\n",
    "nl=int(input(\"Enter how many largest element to print:\"))\n",
    "lst.sort()\n",
    "print(lst[-nl:])"
   ]
  },
  {
   "cell_type": "code",
   "execution_count": 7,
   "id": "e27a66bb",
   "metadata": {},
   "outputs": [
    {
     "name": "stdout",
     "output_type": "stream",
     "text": [
      "Enter number of elements:6\n",
      "Enter 6 elements one by one:\n",
      "2\n",
      "4\n",
      "6\n",
      "1\n",
      "3\n",
      "5\n",
      "[2, 4, 6, 1, 3, 5]\n",
      "Even numbers in a list:\n",
      "2\n",
      "4\n",
      "6\n"
     ]
    }
   ],
   "source": [
    "#7.Write a Python program to print even numbers in a list?\n",
    "lst=[]\n",
    "n=int(input(\"Enter number of elements:\"))\n",
    "print(\"Enter\",n,\"elements one by one:\")\n",
    "for i in range(0,n):\n",
    "    l=int(input())\n",
    "    lst.append(l)\n",
    "print(lst)\n",
    "\n",
    "print(\"Even numbers in a list:\")\n",
    "for i in lst:\n",
    "        if(i%2==0):\n",
    "            print(i)"
   ]
  },
  {
   "cell_type": "code",
   "execution_count": 8,
   "id": "8a9b6701",
   "metadata": {},
   "outputs": [
    {
     "name": "stdout",
     "output_type": "stream",
     "text": [
      "Enter number of elements:6\n",
      "Enter 6 elements one by one:\n",
      "2\n",
      "4\n",
      "6\n",
      "1\n",
      "3\n",
      "5\n",
      "[2, 4, 6, 1, 3, 5]\n",
      "Odd numbers in a list:\n",
      "1\n",
      "3\n",
      "5\n"
     ]
    }
   ],
   "source": [
    "#8.Write a Python program to print odd numbers in a List?\n",
    "lst=[]\n",
    "n=int(input(\"Enter number of elements:\"))\n",
    "print(\"Enter\",n,\"elements one by one:\")\n",
    "for i in range(0,n):\n",
    "    l=int(input())\n",
    "    lst.append(l)\n",
    "print(lst)\n",
    "    \n",
    "print(\"Odd numbers in a list:\")\n",
    "for i in lst:\n",
    "        if(i%2!=0):\n",
    "            print(i)"
   ]
  },
  {
   "cell_type": "code",
   "execution_count": 12,
   "id": "70b3d26d",
   "metadata": {},
   "outputs": [
    {
     "name": "stdout",
     "output_type": "stream",
     "text": [
      "[1, 2, [3, 4]]\n"
     ]
    }
   ],
   "source": [
    "#9.Write a Python program to Remove empty List from List?\n",
    "lst=[1,2,[],[3,4],[]]\n",
    "while [] in lst:\n",
    "    lst.remove([])\n",
    "print(lst)"
   ]
  },
  {
   "cell_type": "code",
   "execution_count": 15,
   "id": "96e39a4e",
   "metadata": {},
   "outputs": [
    {
     "name": "stdout",
     "output_type": "stream",
     "text": [
      "[100, 400, 600, 200, 800]\n"
     ]
    }
   ],
   "source": [
    "#10.Write a Python program to Cloning or Copying a list?\n",
    "lst=[100,400,600,200,800]\n",
    "new_lst=list(lst) #Copying to new list\n",
    "print(new_lst)"
   ]
  },
  {
   "cell_type": "code",
   "execution_count": 18,
   "id": "fac246af",
   "metadata": {},
   "outputs": [
    {
     "name": "stdout",
     "output_type": "stream",
     "text": [
      "Enter number of elements:10\n",
      "Enter 10 elements one by one:\n",
      "12\n",
      "45\n",
      "12\n",
      "56\n",
      "12\n",
      "26\n",
      "12\n",
      "26\n",
      "80\n",
      "12\n",
      "[12, 45, 12, 56, 12, 26, 12, 26, 80, 12]\n",
      "Enter number to count:12\n",
      "12 occurs 5 times\n"
     ]
    }
   ],
   "source": [
    "#11.Write a Python program to Count occurrences of an element in a list?\n",
    "lst=[]\n",
    "n=int(input(\"Enter number of elements:\"))\n",
    "print(\"Enter\",n,\"elements one by one:\")\n",
    "for i in range(0,n):\n",
    "    l=int(input())\n",
    "    lst.append(l)\n",
    "print(lst)\n",
    "\n",
    "num=int(input((\"Enter number to count:\")))\n",
    "print(num,\"occurs\",lst.count(num),\"times\")"
   ]
  }
 ],
 "metadata": {
  "kernelspec": {
   "display_name": "Python 3 (ipykernel)",
   "language": "python",
   "name": "python3"
  },
  "language_info": {
   "codemirror_mode": {
    "name": "ipython",
    "version": 3
   },
   "file_extension": ".py",
   "mimetype": "text/x-python",
   "name": "python",
   "nbconvert_exporter": "python",
   "pygments_lexer": "ipython3",
   "version": "3.9.7"
  }
 },
 "nbformat": 4,
 "nbformat_minor": 5
}
