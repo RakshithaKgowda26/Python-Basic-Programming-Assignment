{
 "cells": [
  {
   "cell_type": "code",
   "execution_count": 1,
   "id": "add01054",
   "metadata": {},
   "outputs": [
    {
     "name": "stdout",
     "output_type": "stream",
     "text": [
      "Enter the kilometer: 3.5\n",
      "miles:  2.1747985\n"
     ]
    }
   ],
   "source": [
    "#1.Write a Python program to convert kilometers to miles?\n",
    "# 1Km = 0.621371\n",
    "k=float(input(\"Enter the kilometer: \"))\n",
    "cf=0.621371\n",
    "mil=k*cf\n",
    "print(\"miles: \",mil)"
   ]
  },
  {
   "cell_type": "code",
   "execution_count": 3,
   "id": "b8e3dcc8",
   "metadata": {},
   "outputs": [
    {
     "name": "stdout",
     "output_type": "stream",
     "text": [
      "38.5\n",
      "fahrenheit:  101.3\n"
     ]
    }
   ],
   "source": [
    "#2. Write a Python program to convert Celsius to Fahrenheit?\n",
    "# fahrenheit = celsius * 1.8 + 32\n",
    "celsius=float(input())\n",
    "fahrenheit = celsius * 1.8 + 32\n",
    "print(\"fahrenheit: \",fahrenheit)"
   ]
  },
  {
   "cell_type": "code",
   "execution_count": 8,
   "id": "c978ec4a",
   "metadata": {},
   "outputs": [
    {
     "name": "stdout",
     "output_type": "stream",
     "text": [
      "Enter the year:2022\n",
      "Enter the month:4\n",
      "     April 2022\n",
      "Mo Tu We Th Fr Sa Su\n",
      "             1  2  3\n",
      " 4  5  6  7  8  9 10\n",
      "11 12 13 14 15 16 17\n",
      "18 19 20 21 22 23 24\n",
      "25 26 27 28 29 30\n",
      "\n"
     ]
    }
   ],
   "source": [
    "#3.Write a Python program to display calendar?\n",
    "import calendar\n",
    "year=int(input(\"Enter the year:\"))\n",
    "month=int(input(\"Enter the month:\"))\n",
    "print(calendar.month(year,month))"
   ]
  },
  {
   "cell_type": "code",
   "execution_count": 9,
   "id": "094a5779",
   "metadata": {},
   "outputs": [
    {
     "name": "stdout",
     "output_type": "stream",
     "text": [
      "Enter the value of a: 5\n",
      "Enter the value of b: 8\n",
      "Enter the value of c: 3\n",
      "Two distinct real roots are -7.80 and -8.20\n"
     ]
    }
   ],
   "source": [
    "#4.Write a Python program to solve quadratic equation?\n",
    "import math\n",
    "\n",
    "a = int(input('Enter the value of a: '))\n",
    "b = int(input('Enter the value of b: '))\n",
    "c = int(input('Enter the value of c: '))\n",
    "\n",
    "dis = (b**2) - (4*a*c)\n",
    "\n",
    "if(dis > 0):\n",
    "    root1 = (-b + math.sqrt(dis) / (2 * a))\n",
    "    root2 = (-b - math.sqrt(dis) / (2 * a))\n",
    "    print(\"Two distinct real roots are %.2f and %.2f\" %(root1, root2))\n",
    "\n",
    "elif(dis == 0):\n",
    "    root1 = root2 = -b / (2 * a)\n",
    "    print(\"Two equal and real roots are %.2f and %.2f\" %(root1, root2))\n",
    "\n",
    "elif(dis < 0):\n",
    "    root1 = root2 = -b / (2 * a)\n",
    "    imaginary = math.sqrt(-dis) / (2 * a)\n",
    "    print(\"Two distinct complex roots are %.2f+%.2f and %.2f-%.2f\" \n",
    "                          %(root1, imaginary, root2, imaginary))"
   ]
  },
  {
   "cell_type": "code",
   "execution_count": 10,
   "id": "57d057af",
   "metadata": {},
   "outputs": [
    {
     "name": "stdout",
     "output_type": "stream",
     "text": [
      "x= 8\n",
      "y= 4\n"
     ]
    }
   ],
   "source": [
    "#5.Write a Python program to swap two variables without temp variable?\n",
    "x=4\n",
    "y=8\n",
    "x,y=y,x\n",
    "print(\"x=\",x)\n",
    "print(\"y=\",y)"
   ]
  }
 ],
 "metadata": {
  "kernelspec": {
   "display_name": "Python 3 (ipykernel)",
   "language": "python",
   "name": "python3"
  },
  "language_info": {
   "codemirror_mode": {
    "name": "ipython",
    "version": 3
   },
   "file_extension": ".py",
   "mimetype": "text/x-python",
   "name": "python",
   "nbconvert_exporter": "python",
   "pygments_lexer": "ipython3",
   "version": "3.9.7"
  }
 },
 "nbformat": 4,
 "nbformat_minor": 5
}
