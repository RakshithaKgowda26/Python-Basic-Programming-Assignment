{
 "cells": [
  {
   "cell_type": "code",
   "execution_count": 1,
   "id": "19628386",
   "metadata": {},
   "outputs": [
    {
     "name": "stdout",
     "output_type": "stream",
     "text": [
      "15\n"
     ]
    }
   ],
   "source": [
    "#1.Write a Python Program to find sum of array?\n",
    "arr=[1,2,3,4,5]\n",
    "sum=sum(arr)\n",
    "print(sum)"
   ]
  },
  {
   "cell_type": "code",
   "execution_count": 2,
   "id": "0ac14428",
   "metadata": {},
   "outputs": [
    {
     "name": "stdout",
     "output_type": "stream",
     "text": [
      "100\n"
     ]
    }
   ],
   "source": [
    "#2.Write a Python Program to find largest element in an array?\n",
    "li=[10,80,40,60,100]\n",
    "print(max(li))"
   ]
  },
  {
   "cell_type": "code",
   "execution_count": 17,
   "id": "f7bbadab",
   "metadata": {},
   "outputs": [
    {
     "name": "stdout",
     "output_type": "stream",
     "text": [
      "After rotation:\n",
      "4\n",
      "5\n",
      "1\n",
      "2\n",
      "3\n"
     ]
    }
   ],
   "source": [
    "#3.Write a Python Program for array rotation?\n",
    "arr=[1,2,3,4,5]\n",
    "n=2 #Number of times to rotate an array\n",
    "for i in range(0,n):\n",
    "    l=arr[len(arr)-1]\n",
    "    for j in range(len(arr)-1,-1,-1):\n",
    "        arr[j]=arr[j-1]\n",
    "    arr[0]=l\n",
    "print(\"After rotation:\")\n",
    "for i in range(0,len(arr)):\n",
    "    print(arr[i])    "
   ]
  },
  {
   "cell_type": "code",
   "execution_count": 20,
   "id": "297b1bd8",
   "metadata": {},
   "outputs": [
    {
     "name": "stdout",
     "output_type": "stream",
     "text": [
      "Enter the index to split:2\n",
      "[10, 20]\n",
      "[30, 40, 50]\n",
      "[30, 40, 50, 10, 20]\n"
     ]
    }
   ],
   "source": [
    "#4.Write a Python Program to Split the array and add the first part to the end?\n",
    "list = [10,20,30,40,50]\n",
    "l=int(input(\"Enter the index to split:\"))\n",
    "fir=list[:l]\n",
    "las=list[l:]\n",
    "print(fir)\n",
    "print(las)\n",
    "print(las+fir)"
   ]
  },
  {
   "cell_type": "code",
   "execution_count": 28,
   "id": "710d0f4c",
   "metadata": {},
   "outputs": [
    {
     "name": "stdout",
     "output_type": "stream",
     "text": [
      "True\n"
     ]
    }
   ],
   "source": [
    "#5.Write a Python Program to check if given array is Monotonic?\n",
    "def isMonotonic(A):\n",
    "  \n",
    "    return (all(A[i] <= A[i + 1] for i in range(len(A) - 1)) or\n",
    "            all(A[i] >= A[i + 1] for i in range(len(A) - 1)))\n",
    "  \n",
    "A = [6, 5, 4, 4]\n",
    "  \n",
    "print(isMonotonic(A))"
   ]
  }
 ],
 "metadata": {
  "kernelspec": {
   "display_name": "Python 3 (ipykernel)",
   "language": "python",
   "name": "python3"
  },
  "language_info": {
   "codemirror_mode": {
    "name": "ipython",
    "version": 3
   },
   "file_extension": ".py",
   "mimetype": "text/x-python",
   "name": "python",
   "nbconvert_exporter": "python",
   "pygments_lexer": "ipython3",
   "version": "3.9.7"
  }
 },
 "nbformat": 4,
 "nbformat_minor": 5
}
