{
 "cells": [
  {
   "cell_type": "markdown",
   "id": "7fab6eac",
   "metadata": {},
   "source": [
    "1.Create a function that takes an integer and returns a list from 1 to the given number, where:\n",
    "1. If the number can be divided evenly by 4, amplify it by 10 (i.e. return 10 times the\n",
    "number).\n",
    "2. If the number cannot be divided evenly by 4, simply return the number.\n",
    "Examples\n",
    "amplify(4) ➞ [1, 2, 3, 40]\n",
    "amplify(3) ➞ [1, 2, 3]\n",
    "amplify(25) ➞ [1, 2, 3, 40, 5, 6, 7, 80, 9, 10, 11, 120, 13, 14, 15, 160,\n",
    "17, 18, 19, 200, 21, 22, 23, 240, 25]\n",
    "Notes\n",
    " The given integer will always be equal to or greater than 1.\n",
    " Include the number (see example above).\n",
    " To perform this problem with its intended purpose, try doing it with list comprehensions. If that's too difficult, just solve the challenge any way you can."
   ]
  },
  {
   "cell_type": "code",
   "execution_count": 1,
   "id": "804c0c6d",
   "metadata": {},
   "outputs": [],
   "source": [
    "def amplify(n):\n",
    "    return [i*10 if i%4==0 else i for i in range(1,n+1)]"
   ]
  },
  {
   "cell_type": "code",
   "execution_count": 2,
   "id": "686c36f8",
   "metadata": {},
   "outputs": [
    {
     "data": {
      "text/plain": [
       "[1, 2, 3, 40]"
      ]
     },
     "execution_count": 2,
     "metadata": {},
     "output_type": "execute_result"
    }
   ],
   "source": [
    "amplify(4)"
   ]
  },
  {
   "cell_type": "code",
   "execution_count": 3,
   "id": "2f17bdff",
   "metadata": {},
   "outputs": [
    {
     "data": {
      "text/plain": [
       "[1, 2, 3]"
      ]
     },
     "execution_count": 3,
     "metadata": {},
     "output_type": "execute_result"
    }
   ],
   "source": [
    "amplify(3)"
   ]
  },
  {
   "cell_type": "code",
   "execution_count": 5,
   "id": "caa0b805",
   "metadata": {},
   "outputs": [
    {
     "name": "stdout",
     "output_type": "stream",
     "text": [
      "[1, 2, 3, 40, 5, 6, 7, 80, 9, 10, 11, 120, 13, 14, 15, 160, 17, 18, 19, 200, 21, 22, 23, 240, 25]\n"
     ]
    }
   ],
   "source": [
    "print(amplify(25))"
   ]
  },
  {
   "cell_type": "markdown",
   "id": "9a84511b",
   "metadata": {},
   "source": [
    "2.Create a function that takes a list of numbers and return the number that's unique.\n",
    "Examples\n",
    "unique([3, 3, 3, 7, 3, 3]) ➞ 7\n",
    "unique([0, 0, 0.77, 0, 0]) ➞ 0.77\n",
    "unique([0, 1, 1, 1, 1, 1, 1, 1]) ➞ 0\n",
    "Notes\n",
    "Test cases will always have exactly one unique number while all others are the same."
   ]
  },
  {
   "cell_type": "code",
   "execution_count": 9,
   "id": "12e0a3da",
   "metadata": {},
   "outputs": [],
   "source": [
    "def unique(l):\n",
    "    for i in list(set(l)):\n",
    "        if l.count(i)==1:\n",
    "            return i"
   ]
  },
  {
   "cell_type": "code",
   "execution_count": 10,
   "id": "22c2815d",
   "metadata": {},
   "outputs": [
    {
     "data": {
      "text/plain": [
       "7"
      ]
     },
     "execution_count": 10,
     "metadata": {},
     "output_type": "execute_result"
    }
   ],
   "source": [
    "unique([3,3,3,7,3,3])"
   ]
  },
  {
   "cell_type": "code",
   "execution_count": 11,
   "id": "a85fd994",
   "metadata": {},
   "outputs": [
    {
     "data": {
      "text/plain": [
       "0.77"
      ]
     },
     "execution_count": 11,
     "metadata": {},
     "output_type": "execute_result"
    }
   ],
   "source": [
    "unique([0,0,0.77,0,0])"
   ]
  },
  {
   "cell_type": "code",
   "execution_count": 12,
   "id": "7e4722b0",
   "metadata": {},
   "outputs": [
    {
     "data": {
      "text/plain": [
       "0"
      ]
     },
     "execution_count": 12,
     "metadata": {},
     "output_type": "execute_result"
    }
   ],
   "source": [
    "unique([0,1,1,1,1,1,1,1])"
   ]
  },
  {
   "cell_type": "markdown",
   "id": "1c397c86",
   "metadata": {},
   "source": [
    "3.Your task is to create a Circle constructor that creates a circle with a radius provided by an\n",
    "argument. The circles constructed must have two getters getArea() (PIr^2) and\n",
    "getPerimeter() (2PI*r) which give both respective areas and perimeter (circumference).\n",
    "For help with this class, I have provided you with a Rectangle constructor which you can use\n",
    "as a base example.\n",
    "Examples\n",
    "circy = Circle(11)\n",
    "circy.getArea()\n",
    "#Should return 380.132711084365\n",
    "circy = Circle(4.44)\n",
    "circy.getPerimeter()\n",
    "#Should return 27.897342763877365\n",
    "Notes\n",
    "Round results up to the nearest integer."
   ]
  },
  {
   "cell_type": "code",
   "execution_count": 14,
   "id": "f62080cc",
   "metadata": {},
   "outputs": [],
   "source": [
    "class Circle:\n",
    "    def __init__(self,r):\n",
    "        self.radius=r\n",
    "        \n",
    "    def getArea(self):\n",
    "        return round(3.14*self.radius*self.radius)\n",
    "    \n",
    "    def getPerimeter(self):\n",
    "        return round(2*3.14*self.radius)"
   ]
  },
  {
   "cell_type": "code",
   "execution_count": 15,
   "id": "b18af1d1",
   "metadata": {},
   "outputs": [
    {
     "data": {
      "text/plain": [
       "380"
      ]
     },
     "execution_count": 15,
     "metadata": {},
     "output_type": "execute_result"
    }
   ],
   "source": [
    "circy=Circle(11)\n",
    "circy.getArea()"
   ]
  },
  {
   "cell_type": "code",
   "execution_count": 16,
   "id": "31948a99",
   "metadata": {},
   "outputs": [
    {
     "data": {
      "text/plain": [
       "28"
      ]
     },
     "execution_count": 16,
     "metadata": {},
     "output_type": "execute_result"
    }
   ],
   "source": [
    "circy=Circle(4.44)\n",
    "circy.getPerimeter()"
   ]
  },
  {
   "cell_type": "markdown",
   "id": "9ed23f70",
   "metadata": {},
   "source": [
    "4.Create a function that takes a list of strings and return a list, sorted from shortest to longest.\n",
    "Examples\n",
    "sort_by_length([\"Google\", \"Apple\", \"Microsoft\"])\n",
    "➞ [\"Apple\", \"Google\", \"Microsoft\"]\n",
    "sort_by_length([\"Leonardo\", \"Michelangelo\", \"Raphael\", \"Donatello\"])\n",
    "➞ [\"Raphael\", \"Leonardo\", \"Donatello\", \"Michelangelo\"]\n",
    "sort_by_length([\"Turing\", \"Einstein\", \"Jung\"])\n",
    "➞ [\"Jung\", \"Turing\", \"Einstein\"]\n",
    "Notes\n",
    "All test cases contain lists with strings of different lengths, so you won't have to deal with\n",
    "multiple strings of the same length."
   ]
  },
  {
   "cell_type": "code",
   "execution_count": 17,
   "id": "e01ae5f5",
   "metadata": {},
   "outputs": [],
   "source": [
    "def sort_by_length(l):\n",
    "    return (sorted(l,key=len))"
   ]
  },
  {
   "cell_type": "code",
   "execution_count": 18,
   "id": "306cf422",
   "metadata": {},
   "outputs": [
    {
     "data": {
      "text/plain": [
       "['Apple', 'Google', 'Microsoft']"
      ]
     },
     "execution_count": 18,
     "metadata": {},
     "output_type": "execute_result"
    }
   ],
   "source": [
    "sort_by_length([\"Google\", \"Apple\", \"Microsoft\"])"
   ]
  },
  {
   "cell_type": "code",
   "execution_count": 19,
   "id": "c05ea83b",
   "metadata": {},
   "outputs": [
    {
     "data": {
      "text/plain": [
       "['Raphael', 'Leonardo', 'Donatello', 'Michelangelo']"
      ]
     },
     "execution_count": 19,
     "metadata": {},
     "output_type": "execute_result"
    }
   ],
   "source": [
    "sort_by_length([\"Leonardo\", \"Michelangelo\", \"Raphael\", \"Donatello\"])"
   ]
  },
  {
   "cell_type": "code",
   "execution_count": 20,
   "id": "ace2cbd6",
   "metadata": {},
   "outputs": [
    {
     "data": {
      "text/plain": [
       "['Jung', 'Turing', 'Einstein']"
      ]
     },
     "execution_count": 20,
     "metadata": {},
     "output_type": "execute_result"
    }
   ],
   "source": [
    "sort_by_length([\"Turing\", \"Einstein\", \"Jung\"])"
   ]
  },
  {
   "cell_type": "markdown",
   "id": "842bcff7",
   "metadata": {},
   "source": [
    "5.Create a function that validates whether three given integers form a Pythagorean triplet. The\n",
    "sum of the squares of the two smallest integers must equal the square of the largest number to\n",
    "be validated.\n",
    "Examples\n",
    "is_triplet(3, 4, 5) ➞ True\n",
    "#3² + 4² = 25\n",
    "#5² = 25\n",
    "is_triplet(13, 5, 12) ➞ True\n",
    "#5² + 12² = 169\n",
    "#13² = 169\n",
    "is_triplet(1, 2, 3) ➞ False\n",
    "#1² + 2² = 5\n",
    "#3² = 9\n",
    "Notes\n",
    "Numbers may not be given in a sorted order."
   ]
  },
  {
   "cell_type": "code",
   "execution_count": 25,
   "id": "5ac77f61",
   "metadata": {},
   "outputs": [],
   "source": [
    "def is_triplet(*args):\n",
    "    l=[]\n",
    "    l.extend((args))\n",
    "    l=sorted(l)\n",
    "    if l[0]**2+l[1]**2==l[2]**2:\n",
    "        return True\n",
    "    return False"
   ]
  },
  {
   "cell_type": "code",
   "execution_count": 26,
   "id": "fb2c3c27",
   "metadata": {},
   "outputs": [
    {
     "data": {
      "text/plain": [
       "True"
      ]
     },
     "execution_count": 26,
     "metadata": {},
     "output_type": "execute_result"
    }
   ],
   "source": [
    "is_triplet(13,5,12)"
   ]
  },
  {
   "cell_type": "code",
   "execution_count": 27,
   "id": "49c44181",
   "metadata": {},
   "outputs": [
    {
     "data": {
      "text/plain": [
       "True"
      ]
     },
     "execution_count": 27,
     "metadata": {},
     "output_type": "execute_result"
    }
   ],
   "source": [
    "is_triplet(3,4,5)"
   ]
  },
  {
   "cell_type": "code",
   "execution_count": 28,
   "id": "adb09d49",
   "metadata": {},
   "outputs": [
    {
     "data": {
      "text/plain": [
       "False"
      ]
     },
     "execution_count": 28,
     "metadata": {},
     "output_type": "execute_result"
    }
   ],
   "source": [
    "is_triplet(1,2,3)"
   ]
  }
 ],
 "metadata": {
  "kernelspec": {
   "display_name": "Python 3 (ipykernel)",
   "language": "python",
   "name": "python3"
  },
  "language_info": {
   "codemirror_mode": {
    "name": "ipython",
    "version": 3
   },
   "file_extension": ".py",
   "mimetype": "text/x-python",
   "name": "python",
   "nbconvert_exporter": "python",
   "pygments_lexer": "ipython3",
   "version": "3.9.7"
  }
 },
 "nbformat": 4,
 "nbformat_minor": 5
}
