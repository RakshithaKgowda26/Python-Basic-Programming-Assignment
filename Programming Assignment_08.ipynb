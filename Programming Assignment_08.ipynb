{
 "cells": [
  {
   "cell_type": "code",
   "execution_count": 4,
   "id": "38146f63",
   "metadata": {},
   "outputs": [
    {
     "name": "stdout",
     "output_type": "stream",
     "text": [
      "[3, 6, 9]\n",
      "[5, 8, 11]\n",
      "[13, 16, 11]\n"
     ]
    }
   ],
   "source": [
    "#1.Write a Python Program to Add Two Matrices?\n",
    "a=[[1,2,3],[2,4,6],[7,8,9]]\n",
    "b=[[2,4,6],[3,4,5],[6,8,2]]\n",
    "result=[[0,0,0],[0,0,0],[0,0,0]]\n",
    "for i in range(len(a)):\n",
    "    for j in range(len(a)):\n",
    "        result[i][j]=a[i][j]+b[i][j]\n",
    "for k in result:\n",
    "    print(k)"
   ]
  },
  {
   "cell_type": "code",
   "execution_count": 8,
   "id": "36424382",
   "metadata": {},
   "outputs": [
    {
     "name": "stdout",
     "output_type": "stream",
     "text": [
      "[114, 160, 60]\n",
      "[74, 97, 73]\n",
      "[119, 157, 112]\n"
     ]
    }
   ],
   "source": [
    "#2.Write a Python Program to Multiply Two Matrices?\n",
    "m1=[[12,7,3],[4,5,6],[7,8,9]]\n",
    "m2=[[5,8,1],[6,7,3],[4,5,9]]\n",
    "r=[[0,0,0],[0,0,0],[0,0,0]]\n",
    "for i in range(len(m1)):\n",
    "    for j in range(len(m2)):\n",
    "        for k in range(len(m2)):\n",
    "            r[i][j]=r[i][j]+m1[i][k]*m2[k][j]\n",
    "for s in r:\n",
    "    print(s)"
   ]
  },
  {
   "cell_type": "code",
   "execution_count": 12,
   "id": "70528142",
   "metadata": {},
   "outputs": [
    {
     "name": "stdout",
     "output_type": "stream",
     "text": [
      "[1, 4, 7]\n",
      "[2, 5, 8]\n"
     ]
    }
   ],
   "source": [
    "#3.Write a Python Program to Transpose a Matrix?\n",
    "m1=[[1,2],[4,5],[7,8]]\n",
    "r=[[0,0,0],[0,0,0]]\n",
    "for i in range(len(m1)):\n",
    "    for j in range(len(m1[0])):\n",
    "        r[j][i]=m1[i][j]\n",
    "for s in r:\n",
    "    print(s)"
   ]
  },
  {
   "cell_type": "code",
   "execution_count": 23,
   "id": "58c07ced",
   "metadata": {},
   "outputs": [
    {
     "name": "stdout",
     "output_type": "stream",
     "text": [
      "Enter the string:I Love Coding\n",
      "coding\n",
      "i\n",
      "love\n"
     ]
    }
   ],
   "source": [
    "#4.Write a Python Program to Sort Words in Alphabetic Order?\n",
    "sen=input(\"Enter the string:\")\n",
    "low=sen.lower()\n",
    "word=low.split()\n",
    "word.sort()\n",
    "for w in word:\n",
    "    print(w)"
   ]
  },
  {
   "cell_type": "code",
   "execution_count": 29,
   "id": "a3bd7472",
   "metadata": {},
   "outputs": [
    {
     "name": "stdout",
     "output_type": "stream",
     "text": [
      "Hello she said its an amazing trip\n"
     ]
    }
   ],
   "source": [
    "#5.Write a Python Program to Remove Punctuation From a String?\n",
    "punctuation = '''!()-[]{};:'\"\\,<>./?@#$%^&*_~'''\n",
    "\n",
    "my_str = \"Hello, she said it's an amazing!- trip.\"\n",
    "\n",
    "no_punct = \"\"\n",
    "for char in my_str:\n",
    "    if char not in punctuation:\n",
    "        no_punct = no_punct + char\n",
    "print(no_punct)"
   ]
  }
 ],
 "metadata": {
  "kernelspec": {
   "display_name": "Python 3 (ipykernel)",
   "language": "python",
   "name": "python3"
  },
  "language_info": {
   "codemirror_mode": {
    "name": "ipython",
    "version": 3
   },
   "file_extension": ".py",
   "mimetype": "text/x-python",
   "name": "python",
   "nbconvert_exporter": "python",
   "pygments_lexer": "ipython3",
   "version": "3.9.7"
  }
 },
 "nbformat": 4,
 "nbformat_minor": 5
}
